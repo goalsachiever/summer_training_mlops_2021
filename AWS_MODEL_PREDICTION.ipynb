{
 "cells": [
  {
   "cell_type": "code",
   "execution_count": null,
   "metadata": {},
   "outputs": [],
   "source": [
    "import tensorflow as tf  \n",
    "from keras.preprocessing.image import ImageDataGenerator  \n",
    "from keras.regularizers import l2\n",
    "import keras\n",
    "from keras.models import Sequential\n",
    "from keras.layers import Dense, Dropout, Activation, Flatten\n",
    "from keras.layers import Conv2D, MaxPooling2D, ZeroPadding2D\n",
    "from keras.layers.normalization import BatchNormalization"
   ]
  },
  {
   "cell_type": "code",
   "execution_count": 26,
   "metadata": {},
   "outputs": [
    {
     "data": {
      "text/plain": [
       "'2.5.0'"
      ]
     },
     "execution_count": 26,
     "metadata": {},
     "output_type": "execute_result"
    }
   ],
   "source": [
    "tf.__version__  "
   ]
  },
  {
   "cell_type": "code",
   "execution_count": 27,
   "metadata": {},
   "outputs": [],
   "source": [
    "train_datagen = ImageDataGenerator(rescale = 1./255,  \n",
    "                                   shear_range = 0.2,  \n",
    "                                   zoom_range = 0.2,  \n",
    "                                   horizontal_flip = True)  \n",
    "\n"
   ]
  },
  {
   "cell_type": "code",
   "execution_count": 28,
   "metadata": {},
   "outputs": [
    {
     "name": "stdout",
     "output_type": "stream",
     "text": [
      "Found 900 images belonging to 3 classes.\n"
     ]
    }
   ],
   "source": [
    "training_set = train_datagen.flow_from_directory('dataset/training_set',  \n",
    "                                                 target_size = (64, 64),  \n",
    "                                                 batch_size = 32,  \n",
    "                                                 class_mode = 'categorical')  "
   ]
  },
  {
   "cell_type": "code",
   "execution_count": 29,
   "metadata": {},
   "outputs": [],
   "source": [
    "test_datagen = ImageDataGenerator(rescale = 1./255)  \n"
   ]
  },
  {
   "cell_type": "code",
   "execution_count": 30,
   "metadata": {},
   "outputs": [
    {
     "name": "stdout",
     "output_type": "stream",
     "text": [
      "Found 75 images belonging to 3 classes.\n"
     ]
    }
   ],
   "source": [
    "test_set = test_datagen.flow_from_directory('dataset/testing_set',  \n",
    "                                            target_size = (64, 64),  \n",
    "                                            batch_size = 32,  \n",
    "                                            class_mode = 'categorical')  "
   ]
  },
  {
   "cell_type": "code",
   "execution_count": 31,
   "metadata": {},
   "outputs": [],
   "source": [
    "model = tf.keras.models.Sequential()  "
   ]
  },
  {
   "cell_type": "code",
   "execution_count": 32,
   "metadata": {},
   "outputs": [],
   "source": [
    "model.add(tf.keras.layers.Conv2D(filters=32, kernel_size=3, activation='relu', input_shape=[64, 64, 3]))  \n"
   ]
  },
  {
   "cell_type": "code",
   "execution_count": 33,
   "metadata": {},
   "outputs": [],
   "source": [
    "l2_reg = 0\n",
    "\n",
    "# 1st Conv Layer : CRP \n",
    "model.add(Conv2D(96, (11, 11), input_shape=(64,64,3),\n",
    "    padding='same', kernel_regularizer=l2(l2_reg)))\n",
    "model.add(BatchNormalization())\n",
    "model.add(Activation('relu'))\n",
    "model.add(MaxPooling2D(pool_size=(2, 2)))\n",
    "\n",
    "# 2nd Conv Layer \n",
    "model.add(Conv2D(256, (5, 5),  padding='same'))\n",
    "model.add(BatchNormalization())\n",
    "model.add(Activation('relu'))\n",
    "model.add(MaxPooling2D(pool_size=(2, 2)))\n",
    "\n",
    "# 3rd Conv Layer \n",
    "model.add(ZeroPadding2D((1, 1)))\n",
    "model.add(Conv2D(512, (3,3),  padding='same'))\n",
    "model.add(BatchNormalization())\n",
    "model.add(Activation('relu'))\n",
    "model.add(MaxPooling2D(pool_size=(2, 2)))\n",
    "\n",
    "# 4th Conv Layer \n",
    "model.add(ZeroPadding2D((1, 1)))\n",
    "model.add(Conv2D(1024,(3, 3), padding='same'))\n",
    "model.add(BatchNormalization())\n",
    "model.add(Activation('relu'))\n",
    "\n",
    "# 5th Conv Layer \n",
    "model.add(ZeroPadding2D((1, 1)))\n",
    "model.add(Conv2D(1024,  (3 , 3), padding='same'))\n",
    "model.add(BatchNormalization())\n",
    "model.add(Activation('relu'))\n",
    "model.add(MaxPooling2D(pool_size=(2, 2)))\n",
    "\n",
    "\n",
    "model.add(Flatten())\n",
    "\n",
    "# 1st FC Layer\n",
    "model.add(Dense(4096))\n",
    "model.add(BatchNormalization())\n",
    "model.add(Activation('relu'))\n",
    "model.add(Dropout(0.5))\n",
    "\n",
    "# 2nd FC Layer\n",
    "model.add(Dense(4096))\n",
    "model.add(BatchNormalization())\n",
    "model.add(Activation('relu'))\n",
    "model.add(Dropout(0.5))\n",
    "\n",
    "# 3rd FC Layer\n",
    "model.add(Dense(3))\n",
    "model.add(BatchNormalization())\n",
    "model.add(Activation('softmax'))\n",
    "\n",
    "# print(model.summary())\n",
    "\n",
    "model.compile(loss = 'categorical_crossentropy',\n",
    "              optimizer = keras.optimizers.Adadelta(),\n",
    "              metrics = ['accuracy'])"
   ]
  },
  {
   "cell_type": "code",
   "execution_count": 34,
   "metadata": {},
   "outputs": [
    {
     "name": "stdout",
     "output_type": "stream",
     "text": [
      "Model: \"sequential_3\"\n",
      "_________________________________________________________________\n",
      "Layer (type)                 Output Shape              Param #   \n",
      "=================================================================\n",
      "conv2d_3 (Conv2D)            (None, 62, 62, 32)        896       \n",
      "_________________________________________________________________\n",
      "module_wrapper_34 (ModuleWra (None, 62, 62, 96)        371808    \n",
      "_________________________________________________________________\n",
      "module_wrapper_35 (ModuleWra (None, 62, 62, 96)        384       \n",
      "_________________________________________________________________\n",
      "module_wrapper_36 (ModuleWra (None, 62, 62, 96)        0         \n",
      "_________________________________________________________________\n",
      "module_wrapper_37 (ModuleWra (None, 31, 31, 96)        0         \n",
      "_________________________________________________________________\n",
      "module_wrapper_38 (ModuleWra (None, 31, 31, 256)       614656    \n",
      "_________________________________________________________________\n",
      "module_wrapper_39 (ModuleWra (None, 31, 31, 256)       1024      \n",
      "_________________________________________________________________\n",
      "module_wrapper_40 (ModuleWra (None, 31, 31, 256)       0         \n",
      "_________________________________________________________________\n",
      "module_wrapper_41 (ModuleWra (None, 15, 15, 256)       0         \n",
      "_________________________________________________________________\n",
      "module_wrapper_42 (ModuleWra (None, 17, 17, 256)       0         \n",
      "_________________________________________________________________\n",
      "module_wrapper_43 (ModuleWra (None, 17, 17, 512)       1180160   \n",
      "_________________________________________________________________\n",
      "module_wrapper_44 (ModuleWra (None, 17, 17, 512)       2048      \n",
      "_________________________________________________________________\n",
      "module_wrapper_45 (ModuleWra (None, 17, 17, 512)       0         \n",
      "_________________________________________________________________\n",
      "module_wrapper_46 (ModuleWra (None, 8, 8, 512)         0         \n",
      "_________________________________________________________________\n",
      "module_wrapper_47 (ModuleWra (None, 10, 10, 512)       0         \n",
      "_________________________________________________________________\n",
      "module_wrapper_48 (ModuleWra (None, 10, 10, 1024)      4719616   \n",
      "_________________________________________________________________\n",
      "module_wrapper_49 (ModuleWra (None, 10, 10, 1024)      4096      \n",
      "_________________________________________________________________\n",
      "module_wrapper_50 (ModuleWra (None, 10, 10, 1024)      0         \n",
      "_________________________________________________________________\n",
      "module_wrapper_51 (ModuleWra (None, 12, 12, 1024)      0         \n",
      "_________________________________________________________________\n",
      "module_wrapper_52 (ModuleWra (None, 12, 12, 1024)      9438208   \n",
      "_________________________________________________________________\n",
      "module_wrapper_53 (ModuleWra (None, 12, 12, 1024)      4096      \n",
      "_________________________________________________________________\n",
      "module_wrapper_54 (ModuleWra (None, 12, 12, 1024)      0         \n",
      "_________________________________________________________________\n",
      "module_wrapper_55 (ModuleWra (None, 6, 6, 1024)        0         \n",
      "_________________________________________________________________\n",
      "module_wrapper_56 (ModuleWra (None, 36864)             0         \n",
      "_________________________________________________________________\n",
      "module_wrapper_57 (ModuleWra (None, 4096)              150999040 \n",
      "_________________________________________________________________\n",
      "module_wrapper_58 (ModuleWra (None, 4096)              16384     \n",
      "_________________________________________________________________\n",
      "module_wrapper_59 (ModuleWra (None, 4096)              0         \n",
      "_________________________________________________________________\n",
      "module_wrapper_60 (ModuleWra (None, 4096)              0         \n",
      "_________________________________________________________________\n",
      "module_wrapper_61 (ModuleWra (None, 4096)              16781312  \n",
      "_________________________________________________________________\n",
      "module_wrapper_62 (ModuleWra (None, 4096)              16384     \n",
      "_________________________________________________________________\n",
      "module_wrapper_63 (ModuleWra (None, 4096)              0         \n",
      "_________________________________________________________________\n",
      "module_wrapper_64 (ModuleWra (None, 4096)              0         \n",
      "_________________________________________________________________\n",
      "module_wrapper_65 (ModuleWra (None, 3)                 12291     \n",
      "_________________________________________________________________\n",
      "module_wrapper_66 (ModuleWra (None, 3)                 12        \n",
      "_________________________________________________________________\n",
      "module_wrapper_67 (ModuleWra (None, 3)                 0         \n",
      "=================================================================\n",
      "Total params: 184,162,415\n",
      "Trainable params: 184,140,201\n",
      "Non-trainable params: 22,214\n",
      "_________________________________________________________________\n"
     ]
    }
   ],
   "source": [
    "model.summary()"
   ]
  },
  {
   "cell_type": "code",
   "execution_count": null,
   "metadata": {},
   "outputs": [],
   "source": [
    "model.fit(x = training_set, validation_data = test_set, epochs = 75)  "
   ]
  }
 ],
 "metadata": {
  "kernelspec": {
   "display_name": "Python 3",
   "language": "python",
   "name": "python3"
  },
  "language_info": {
   "codemirror_mode": {
    "name": "ipython",
    "version": 3
   },
   "file_extension": ".py",
   "mimetype": "text/x-python",
   "name": "python",
   "nbconvert_exporter": "python",
   "pygments_lexer": "ipython3",
   "version": "3.8.5"
  }
 },
 "nbformat": 4,
 "nbformat_minor": 4
}
